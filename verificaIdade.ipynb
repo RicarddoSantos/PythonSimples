{
 "cells": [
  {
   "cell_type": "markdown",
   "id": "c4cbe5b5",
   "metadata": {},
   "source": [
    "Verifica se o usuário é maior de idade ou não"
   ]
  },
  {
   "cell_type": "code",
   "execution_count": null,
   "id": "7c021b4e",
   "metadata": {},
   "outputs": [
    {
     "name": "stdout",
     "output_type": "stream",
     "text": [
      "Verificar idade do usuário\n",
      "O usuário é menor de idade e é um adolescente de 0 anos\n"
     ]
    }
   ],
   "source": [
    "print(\"Verificar idade do usuário\")\n",
    "\n",
    "idadeDigitada = input(\"Por favor digite a sua idade: \")\n",
    "\n",
    "idade = int(idadeDigitada)\n",
    "\n",
    "if idade >= 18:\n",
    "    print(\"O usuário é maior de idade e ele tem\", idade, \"anos\")\n",
    "elif idade < 18:\n",
    "    print(\"O usuário é menor de idade e é um adolescente de\", idade, \"anos\")\n",
    "else:\n",
    "    print(\"Idade inválida\")"
   ]
  }
 ],
 "metadata": {
  "kernelspec": {
   "display_name": ".venv",
   "language": "python",
   "name": "python3"
  },
  "language_info": {
   "codemirror_mode": {
    "name": "ipython",
    "version": 3
   },
   "file_extension": ".py",
   "mimetype": "text/x-python",
   "name": "python",
   "nbconvert_exporter": "python",
   "pygments_lexer": "ipython3",
   "version": "3.13.7"
  }
 },
 "nbformat": 4,
 "nbformat_minor": 5
}
